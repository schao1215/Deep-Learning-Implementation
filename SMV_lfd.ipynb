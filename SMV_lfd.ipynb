{
 "cells": [
  {
   "cell_type": "code",
   "execution_count": 1,
   "metadata": {},
   "outputs": [],
   "source": [
    "import numpy as np \n",
    "from sklearn.svm import SVC\n",
    "from sklearn.linear_model import LogisticRegression\n",
    "from sklearn.model_selection import train_test_split\n",
    "from sklearn.decomposition import PCA\n",
    "from sklearn.metrics import accuracy_score\n",
    "from sklearn import datasets\n",
    "import matplotlib.pyplot as plt "
   ]
  },
  {
   "cell_type": "code",
   "execution_count": 2,
   "metadata": {},
   "outputs": [],
   "source": [
    "import ssl\n",
    "ssl._create_default_https_context = ssl._create_unverified_context"
   ]
  },
  {
   "cell_type": "code",
   "execution_count": 71,
   "metadata": {},
   "outputs": [
    {
     "data": {
      "text/plain": [
       "(1348, 8742)"
      ]
     },
     "execution_count": 71,
     "metadata": {},
     "output_type": "execute_result"
    }
   ],
   "source": [
    "data = datasets.fetch_lfw_people(min_faces_per_person=60, color=True)\n",
    "# data\n",
    "X = data[\"data\"]\n",
    "y = data['target']\n",
    "name = data['target_names']\n",
    "# X.shape"
   ]
  },
  {
   "cell_type": "code",
   "execution_count": 68,
   "metadata": {},
   "outputs": [
    {
     "data": {
      "text/plain": [
       "array([0, 1, 2, 3, 4, 5, 6, 7])"
      ]
     },
     "execution_count": 68,
     "metadata": {},
     "output_type": "execute_result"
    }
   ],
   "source": [
    "np.unique(y)"
   ]
  },
  {
   "cell_type": "code",
   "execution_count": 69,
   "metadata": {},
   "outputs": [],
   "source": [
    "X_train, X_test, y_train, y_test = train_test_split(X, y, test_size=0.1, random_state=42)"
   ]
  },
  {
   "cell_type": "code",
   "execution_count": 95,
   "metadata": {},
   "outputs": [
    {
     "data": {
      "text/plain": [
       "'Donald Rumsfeld'"
      ]
     },
     "metadata": {},
     "output_type": "display_data"
    },
    {
     "data": {
      "image/png": "[encoded data removed]",
      "text/plain": [
       "<Figure size 640x480 with 1 Axes>"
      ]
     },
     "metadata": {},
     "output_type": "display_data"
    }
   ],
   "source": [
    "ran = np.random.randint(0, 1348)\n",
    "plt.imshow(X[ran].reshape(62, -1, 3))\n",
    "display(name[y[ran]])"
   ]
  },
  {
   "cell_type": "code",
   "execution_count": 100,
   "metadata": {},
   "outputs": [
    {
     "name": "stdout",
     "output_type": "stream",
     "text": [
      "[LibSVM]...*..*\n",
      "optimization finished, #iter = 1473\n",
      "obj = -0.661201, rho = 0.326368\n",
      "nSV = 125, nBSV = 0\n",
      "..*..*\n",
      "optimization finished, #iter = 768\n",
      "obj = -0.471298, rho = -0.553089\n",
      "nSV = 82, nBSV = 0\n",
      ".*.*\n",
      "optimization finished, #iter = 1187\n",
      "obj = -0.572561, rho = 1.103231\n",
      "nSV = 99, nBSV = 0\n",
      ".*.*\n",
      "optimization finished, #iter = 437\n",
      "obj = -0.215525, rho = -0.068378\n",
      "nSV = 62, nBSV = 0\n",
      ".*.*\n",
      "optimization finished, #iter = 300\n",
      "obj = -0.151463, rho = 0.111951\n",
      "nSV = 49, nBSV = 0\n",
      ".*.*\n",
      "optimization finished, #iter = 355\n",
      "obj = -0.107405, rho = 0.353949\n",
      "nSV = 48, nBSV = 0\n",
      ".*.*\n",
      "optimization finished, #iter = 544\n",
      "obj = -0.283939, rho = -1.346589\n",
      "nSV = 74, nBSV = 0\n",
      "..*.*\n",
      "optimization finished, #iter = 1276\n",
      "obj = -0.718156, rho = -1.385238\n",
      "nSV = 122, nBSV = 0\n",
      "..*.*\n",
      "optimization finished, #iter = 2690\n",
      "obj = -1.715297, rho = -0.478407\n",
      "nSV = 176, nBSV = 0\n",
      ".*..*\n",
      "optimization finished, #iter = 1010\n",
      "obj = -0.490905, rho = -1.392913\n",
      "nSV = 103, nBSV = 0\n",
      ".*\n",
      "optimization finished, #iter = 533\n",
      "obj = -0.339155, rho = -0.624781\n",
      "nSV = 73, nBSV = 0\n",
      ".*.*\n",
      "optimization finished, #iter = 599\n",
      "obj = -0.246202, rho = -0.329350\n",
      "nSV = 73, nBSV = 0\n",
      "..*.*\n",
      "optimization finished, #iter = 1315\n",
      "obj = -0.723786, rho = -2.622759\n",
      "nSV = 125, nBSV = 0\n",
      "..*.*\n",
      "optimization finished, #iter = 2095\n",
      "obj = -1.216321, rho = 1.210930\n",
      "nSV = 147, nBSV = 0\n",
      "..*..*\n",
      "optimization finished, #iter = 960\n",
      "obj = -0.451227, rho = -0.426201\n",
      "nSV = 88, nBSV = 0\n",
      ".*.*\n",
      "optimization finished, #iter = 394\n",
      "obj = -0.157829, rho = 0.583679\n",
      "nSV = 61, nBSV = 0\n",
      ".*.*\n",
      "optimization finished, #iter = 333\n",
      "obj = -0.129554, rho = 0.479926\n",
      "nSV = 43, nBSV = 0\n",
      "..*.*\n",
      "optimization finished, #iter = 900\n",
      "obj = -0.495415, rho = -0.640232\n",
      "nSV = 99, nBSV = 0\n",
      "..*\n",
      "optimization finished, #iter = 1709\n",
      "obj = -1.063583, rho = -2.118318\n",
      "nSV = 132, nBSV = 0\n",
      ".*\n",
      "optimization finished, #iter = 1051\n",
      "obj = -0.468470, rho = -0.564336\n",
      "nSV = 111, nBSV = 0\n",
      "*.*\n",
      "optimization finished, #iter = 766\n",
      "obj = -0.369977, rho = 0.302130\n",
      "nSV = 84, nBSV = 0\n",
      "..*.*\n",
      "optimization finished, #iter = 2183\n",
      "obj = -1.235282, rho = -2.610352\n",
      "nSV = 151, nBSV = 0\n",
      "...*..*\n",
      "optimization finished, #iter = 834\n",
      "obj = -0.403092, rho = 0.293776\n",
      "nSV = 86, nBSV = 0\n",
      ".*.*\n",
      "optimization finished, #iter = 451\n",
      "obj = -0.251277, rho = 1.138434\n",
      "nSV = 52, nBSV = 0\n",
      "....*.*\n",
      "optimization finished, #iter = 1337\n",
      "obj = -0.845582, rho = -0.199520\n",
      "nSV = 117, nBSV = 0\n",
      ".*..*\n",
      "optimization finished, #iter = 359\n",
      "obj = -0.250828, rho = -0.105073\n",
      "nSV = 54, nBSV = 0\n",
      ".*.*\n",
      "optimization finished, #iter = 496\n",
      "obj = -0.329458, rho = -2.547576\n",
      "nSV = 75, nBSV = 0\n",
      ".*.*\n",
      "optimization finished, #iter = 394\n",
      "obj = -0.230956, rho = -1.774847\n",
      "nSV = 59, nBSV = 0\n",
      "Total nSV = 853\n"
     ]
    },
    {
     "data": {
      "text/html": [
       "<style>#sk-container-id-15 {color: black;}#sk-container-id-15 pre{padding: 0;}#sk-container-id-15 div.sk-toggleable {background-color: white;}#sk-container-id-15 label.sk-toggleable__label {cursor: pointer;display: block;width: 100%;margin-bottom: 0;padding: 0.3em;box-sizing: border-box;text-align: center;}#sk-container-id-15 label.sk-toggleable__label-arrow:before {content: \"▸\";float: left;margin-right: 0.25em;color: #696969;}#sk-container-id-15 label.sk-toggleable__label-arrow:hover:before {color: black;}#sk-container-id-15 div.sk-estimator:hover label.sk-toggleable__label-arrow:before {color: black;}#sk-container-id-15 div.sk-toggleable__content {max-height: 0;max-width: 0;overflow: hidden;text-align: left;background-color: #f0f8ff;}#sk-container-id-15 div.sk-toggleable__content pre {margin: 0.2em;color: black;border-radius: 0.25em;background-color: #f0f8ff;}#sk-container-id-15 input.sk-toggleable__control:checked~div.sk-toggleable__content {max-height: 200px;max-width: 100%;overflow: auto;}#sk-container-id-15 input.sk-toggleable__control:checked~label.sk-toggleable__label-arrow:before {content: \"▾\";}#sk-container-id-15 div.sk-estimator input.sk-toggleable__control:checked~label.sk-toggleable__label {background-color: #d4ebff;}#sk-container-id-15 div.sk-label input.sk-toggleable__control:checked~label.sk-toggleable__label {background-color: #d4ebff;}#sk-container-id-15 input.sk-hidden--visually {border: 0;clip: rect(1px 1px 1px 1px);clip: rect(1px, 1px, 1px, 1px);height: 1px;margin: -1px;overflow: hidden;padding: 0;position: absolute;width: 1px;}#sk-container-id-15 div.sk-estimator {font-family: monospace;background-color: #f0f8ff;border: 1px dotted black;border-radius: 0.25em;box-sizing: border-box;margin-bottom: 0.5em;}#sk-container-id-15 div.sk-estimator:hover {background-color: #d4ebff;}#sk-container-id-15 div.sk-parallel-item::after {content: \"\";width: 100%;border-bottom: 1px solid gray;flex-grow: 1;}#sk-container-id-15 div.sk-label:hover label.sk-toggleable__label {background-color: #d4ebff;}#sk-container-id-15 div.sk-serial::before {content: \"\";position: absolute;border-left: 1px solid gray;box-sizing: border-box;top: 0;bottom: 0;left: 50%;z-index: 0;}#sk-container-id-15 div.sk-serial {display: flex;flex-direction: column;align-items: center;background-color: white;padding-right: 0.2em;padding-left: 0.2em;position: relative;}#sk-container-id-15 div.sk-item {position: relative;z-index: 1;}#sk-container-id-15 div.sk-parallel {display: flex;align-items: stretch;justify-content: center;background-color: white;position: relative;}#sk-container-id-15 div.sk-item::before, #sk-container-id-15 div.sk-parallel-item::before {content: \"\";position: absolute;border-left: 1px solid gray;box-sizing: border-box;top: 0;bottom: 0;left: 50%;z-index: -1;}#sk-container-id-15 div.sk-parallel-item {display: flex;flex-direction: column;z-index: 1;position: relative;background-color: white;}#sk-container-id-15 div.sk-parallel-item:first-child::after {align-self: flex-end;width: 50%;}#sk-container-id-15 div.sk-parallel-item:last-child::after {align-self: flex-start;width: 50%;}#sk-container-id-15 div.sk-parallel-item:only-child::after {width: 0;}#sk-container-id-15 div.sk-dashed-wrapped {border: 1px dashed gray;margin: 0 0.4em 0.5em 0.4em;box-sizing: border-box;padding-bottom: 0.4em;background-color: white;}#sk-container-id-15 div.sk-label label {font-family: monospace;font-weight: bold;display: inline-block;line-height: 1.2em;}#sk-container-id-15 div.sk-label-container {text-align: center;}#sk-container-id-15 div.sk-container {/* jupyter's `normalize.less` sets `[hidden] { display: none; }` but bootstrap.min.css set `[hidden] { display: none !important; }` so we also need the `!important` here to be able to override the default hidden behavior on the sphinx rendered scikit-learn.org. See: https://github.com/scikit-learn/scikit-learn/issues/21755 */display: inline-block !important;position: relative;}#sk-container-id-15 div.sk-text-repr-fallback {display: none;}</style><div id=\"sk-container-id-15\" class=\"sk-top-container\"><div class=\"sk-text-repr-fallback\"><pre>SVC(C=10, kernel=&#x27;linear&#x27;, max_iter=5000, verbose=2)</pre><b>In a Jupyter environment, please rerun this cell to show the HTML representation or trust the notebook. <br />On GitHub, the HTML representation is unable to render, please try loading this page with nbviewer.org.</b></div><div class=\"sk-container\" hidden><div class=\"sk-item\"><div class=\"sk-estimator sk-toggleable\"><input class=\"sk-toggleable__control sk-hidden--visually\" id=\"sk-estimator-id-15\" type=\"checkbox\" checked><label for=\"sk-estimator-id-15\" class=\"sk-toggleable__label sk-toggleable__label-arrow\">SVC</label><div class=\"sk-toggleable__content\"><pre>SVC(C=10, kernel=&#x27;linear&#x27;, max_iter=5000, verbose=2)</pre></div></div></div></div></div>"
      ],
      "text/plain": [
       "SVC(C=10, kernel='linear', max_iter=5000, verbose=2)"
      ]
     },
     "execution_count": 100,
     "metadata": {},
     "output_type": "execute_result"
    }
   ],
   "source": [
    "svc = SVC(verbose=2, max_iter=5000, kernel='linear', C=10)\n",
    "svc.fit(X_train, y_train)"
   ]
  },
  {
   "cell_type": "code",
   "execution_count": 101,
   "metadata": {},
   "outputs": [
    {
     "data": {
      "text/plain": [
       "0.8666666666666667"
      ]
     },
     "execution_count": 101,
     "metadata": {},
     "output_type": "execute_result"
    }
   ],
   "source": [
    "y_pred = svc.predict(X_test)\n",
    "accuracy_score(y_pred, y_test)"
   ]
  },
  {
   "cell_type": "code",
   "execution_count": null,
   "metadata": {},
   "outputs": [],
   "source": []
  }
 ],
 "metadata": {
  "kernelspec": {
   "display_name": "venv",
   "language": "python",
   "name": "python3"
  },
  "language_info": {
   "codemirror_mode": {
    "name": "ipython",
    "version": 3
   },
   "file_extension": ".py",
   "mimetype": "text/x-python",
   "name": "python",
   "nbconvert_exporter": "python",
   "pygments_lexer": "ipython3",
   "version": "3.9.2"
  }
 },
 "nbformat": 4,
 "nbformat_minor": 2
}
