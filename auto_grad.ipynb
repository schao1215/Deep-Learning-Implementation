{
 "cells": [
  {
   "cell_type": "code",
   "execution_count": 50,
   "metadata": {},
   "outputs": [],
   "source": [
    "import numpy as np\n",
    "\n",
    "# torch里要求数据类型必须是float\n",
    "x = np.arange(1, 12, dtype=np.float32).reshape(-1, 1)\n",
    "y = 2 * x + 3"
   ]
  },
  {
   "cell_type": "code",
   "execution_count": 51,
   "metadata": {},
   "outputs": [],
   "source": [
    "import torch\n",
    "import torch.nn as nn\n",
    "\n",
    "\n",
    "# 继承nn.module，实现前向传播，线性回归直接可以看做是全连接层\n",
    "class LinearRegressionModel(nn.Module):\n",
    "    def __init__(self, input_dim, output_dim):\n",
    "        super().__init__()  # 继承父类方法\n",
    "        self.linear = nn.Linear(input_dim, output_dim)  # 定义全连接层，其中input_dim和output_dim是输入和输出数据的维数\n",
    "\n",
    "    # 定义前向传播算法\n",
    "    def forward(self, inp):\n",
    "        out = self.linear(inp)  # 输入x后，通过全连接层得到输入出结果out\n",
    "        return out  # 返回被全连接层处理后的结果\n",
    "\n",
    "\n",
    "# 定义线性回归模型\n",
    "regression_model = LinearRegressionModel(1, 1)  # x和y都是一维的"
   ]
  },
  {
   "cell_type": "code",
   "execution_count": 52,
   "metadata": {},
   "outputs": [
    {
     "data": {
      "text/plain": [
       "device(type='mps')"
      ]
     },
     "execution_count": 52,
     "metadata": {},
     "output_type": "execute_result"
    }
   ],
   "source": [
    "# 可以通过to()或者cuda()使用GPU进行模型的训练，需要将模型和数据都转换到GPU上，也可以指定具体的GPU，如.cuda(1)\n",
    "device = torch.device(\"mps\" if torch.backends.mps.is_available() else \"cpu\")\n",
    "regression_model.to(device)\n",
    "device"
   ]
  },
  {
   "cell_type": "code",
   "execution_count": 53,
   "metadata": {},
   "outputs": [],
   "source": [
    "epochs = 1000  # 训练次数\n",
    "learning_rate = 0.01  # 学习速率\n",
    "optimizer = torch.optim.SGD(regression_model.parameters(), learning_rate)  # 优化器（未来会详细介绍），这里使用随机梯度下降算法（SGD）\n",
    "criterion = nn.MSELoss()  # 使用均方误差定义损失函数"
   ]
  },
  {
   "cell_type": "code",
   "execution_count": 54,
   "metadata": {},
   "outputs": [
    {
     "name": "stdout",
     "output_type": "stream",
     "text": [
      "Help on class SGD in module torch.optim.sgd:\n",
      "\n",
      "class SGD(torch.optim.optimizer.Optimizer)\n",
      " |  SGD(params, lr=0.001, momentum=0, dampening=0, weight_decay=0, nesterov=False, *, maximize: bool = False, foreach: Optional[bool] = None, differentiable: bool = False)\n",
      " |  \n",
      " |  Implements stochastic gradient descent (optionally with momentum).\n",
      " |  \n",
      " |  .. math::\n",
      " |     \\begin{aligned}\n",
      " |          &\\rule{110mm}{0.4pt}                                                                 \\\\\n",
      " |          &\\textbf{input}      : \\gamma \\text{ (lr)}, \\: \\theta_0 \\text{ (params)}, \\: f(\\theta)\n",
      " |              \\text{ (objective)}, \\: \\lambda \\text{ (weight decay)},                          \\\\\n",
      " |          &\\hspace{13mm} \\:\\mu \\text{ (momentum)}, \\:\\tau \\text{ (dampening)},\n",
      " |          \\:\\textit{ nesterov,}\\:\\textit{ maximize}                                     \\\\[-1.ex]\n",
      " |          &\\rule{110mm}{0.4pt}                                                                 \\\\\n",
      " |          &\\textbf{for} \\: t=1 \\: \\textbf{to} \\: \\ldots \\: \\textbf{do}                         \\\\\n",
      " |          &\\hspace{5mm}g_t           \\leftarrow   \\nabla_{\\theta} f_t (\\theta_{t-1})           \\\\\n",
      " |          &\\hspace{5mm}\\textbf{if} \\: \\lambda \\neq 0                                           \\\\\n",
      " |          &\\hspace{10mm} g_t \\leftarrow g_t + \\lambda  \\theta_{t-1}                            \\\\\n",
      " |          &\\hspace{5mm}\\textbf{if} \\: \\mu \\neq 0                                               \\\\\n",
      " |          &\\hspace{10mm}\\textbf{if} \\: t > 1                                                   \\\\\n",
      " |          &\\hspace{15mm} \\textbf{b}_t \\leftarrow \\mu \\textbf{b}_{t-1} + (1-\\tau) g_t           \\\\\n",
      " |          &\\hspace{10mm}\\textbf{else}                                                          \\\\\n",
      " |          &\\hspace{15mm} \\textbf{b}_t \\leftarrow g_t                                           \\\\\n",
      " |          &\\hspace{10mm}\\textbf{if} \\: \\textit{nesterov}                                       \\\\\n",
      " |          &\\hspace{15mm} g_t \\leftarrow g_{t} + \\mu \\textbf{b}_t                             \\\\\n",
      " |          &\\hspace{10mm}\\textbf{else}                                                   \\\\[-1.ex]\n",
      " |          &\\hspace{15mm} g_t  \\leftarrow  \\textbf{b}_t                                         \\\\\n",
      " |          &\\hspace{5mm}\\textbf{if} \\: \\textit{maximize}                                          \\\\\n",
      " |          &\\hspace{10mm}\\theta_t \\leftarrow \\theta_{t-1} + \\gamma g_t                   \\\\[-1.ex]\n",
      " |          &\\hspace{5mm}\\textbf{else}                                                    \\\\[-1.ex]\n",
      " |          &\\hspace{10mm}\\theta_t \\leftarrow \\theta_{t-1} - \\gamma g_t                   \\\\[-1.ex]\n",
      " |          &\\rule{110mm}{0.4pt}                                                          \\\\[-1.ex]\n",
      " |          &\\bf{return} \\:  \\theta_t                                                     \\\\[-1.ex]\n",
      " |          &\\rule{110mm}{0.4pt}                                                          \\\\[-1.ex]\n",
      " |     \\end{aligned}\n",
      " |  \n",
      " |  Nesterov momentum is based on the formula from\n",
      " |  `On the importance of initialization and momentum in deep learning`__.\n",
      " |  \n",
      " |  Args:\n",
      " |      params (iterable): iterable of parameters to optimize or dicts defining\n",
      " |          parameter groups\n",
      " |      lr (float, optional): learning rate (default: 1e-3)\n",
      " |      momentum (float, optional): momentum factor (default: 0)\n",
      " |      weight_decay (float, optional): weight decay (L2 penalty) (default: 0)\n",
      " |      dampening (float, optional): dampening for momentum (default: 0)\n",
      " |      nesterov (bool, optional): enables Nesterov momentum (default: False)\n",
      " |      maximize (bool, optional): maximize the objective with respect to the\n",
      " |          params, instead of minimizing (default: False)\n",
      " |      foreach (bool, optional): whether foreach implementation of optimizer\n",
      " |          is used. If unspecified by the user (so foreach is None), we will try to use\n",
      " |          foreach over the for-loop implementation on CUDA, since it is usually\n",
      " |          significantly more performant. Note that the foreach implementation uses\n",
      " |          ~ sizeof(params) more peak memory than the for-loop version due to the intermediates\n",
      " |          being a tensorlist vs just one tensor. If memory is prohibitive, batch fewer\n",
      " |          parameters through the optimizer at a time or switch this flag to False (default: None)\n",
      " |      differentiable (bool, optional): whether autograd should\n",
      " |          occur through the optimizer step in training. Otherwise, the step()\n",
      " |          function runs in a torch.no_grad() context. Setting to True can impair\n",
      " |          performance, so leave it False if you don't intend to run autograd\n",
      " |          through this instance (default: False)\n",
      " |  \n",
      " |  \n",
      " |  Example:\n",
      " |      >>> # xdoctest: +SKIP\n",
      " |      >>> optimizer = torch.optim.SGD(model.parameters(), lr=0.1, momentum=0.9)\n",
      " |      >>> optimizer.zero_grad()\n",
      " |      >>> loss_fn(model(input), target).backward()\n",
      " |      >>> optimizer.step()\n",
      " |  \n",
      " |  __ http://www.cs.toronto.edu/%7Ehinton/absps/momentum.pdf\n",
      " |  \n",
      " |  .. note::\n",
      " |      The implementation of SGD with Momentum/Nesterov subtly differs from\n",
      " |      Sutskever et. al. and implementations in some other frameworks.\n",
      " |  \n",
      " |      Considering the specific case of Momentum, the update can be written as\n",
      " |  \n",
      " |      .. math::\n",
      " |          \\begin{aligned}\n",
      " |              v_{t+1} & = \\mu * v_{t} + g_{t+1}, \\\\\n",
      " |              p_{t+1} & = p_{t} - \\text{lr} * v_{t+1},\n",
      " |          \\end{aligned}\n",
      " |  \n",
      " |      where :math:`p`, :math:`g`, :math:`v` and :math:`\\mu` denote the\n",
      " |      parameters, gradient, velocity, and momentum respectively.\n",
      " |  \n",
      " |      This is in contrast to Sutskever et. al. and\n",
      " |      other frameworks which employ an update of the form\n",
      " |  \n",
      " |      .. math::\n",
      " |          \\begin{aligned}\n",
      " |              v_{t+1} & = \\mu * v_{t} + \\text{lr} * g_{t+1}, \\\\\n",
      " |              p_{t+1} & = p_{t} - v_{t+1}.\n",
      " |          \\end{aligned}\n",
      " |  \n",
      " |      The Nesterov version is analogously modified.\n",
      " |  \n",
      " |      Moreover, the initial value of the momentum buffer is set to the\n",
      " |      gradient value at the first step. This is in contrast to some other\n",
      " |      frameworks that initialize it to all zeros.\n",
      " |  \n",
      " |  Method resolution order:\n",
      " |      SGD\n",
      " |      torch.optim.optimizer.Optimizer\n",
      " |      builtins.object\n",
      " |  \n",
      " |  Methods defined here:\n",
      " |  \n",
      " |  __init__(self, params, lr=0.001, momentum=0, dampening=0, weight_decay=0, nesterov=False, *, maximize: bool = False, foreach: Optional[bool] = None, differentiable: bool = False)\n",
      " |      Initialize self.  See help(type(self)) for accurate signature.\n",
      " |  \n",
      " |  __setstate__(self, state)\n",
      " |  \n",
      " |  step(self, closure=None)\n",
      " |      Performs a single optimization step.\n",
      " |      \n",
      " |      Args:\n",
      " |          closure (Callable, optional): A closure that reevaluates the model\n",
      " |              and returns the loss.\n",
      " |  \n",
      " |  ----------------------------------------------------------------------\n",
      " |  Methods inherited from torch.optim.optimizer.Optimizer:\n",
      " |  \n",
      " |  __getstate__(self) -> Dict[str, Any]\n",
      " |  \n",
      " |  __repr__(self) -> str\n",
      " |      Return repr(self).\n",
      " |  \n",
      " |  add_param_group(self, param_group: Dict[str, Any]) -> None\n",
      " |      Add a param group to the :class:`Optimizer` s `param_groups`.\n",
      " |      \n",
      " |      This can be useful when fine tuning a pre-trained network as frozen layers can be made\n",
      " |      trainable and added to the :class:`Optimizer` as training progresses.\n",
      " |      \n",
      " |      Args:\n",
      " |          param_group (dict): Specifies what Tensors should be optimized along with group\n",
      " |              specific optimization options.\n",
      " |  \n",
      " |  load_state_dict(self, state_dict: Dict[str, Any]) -> None\n",
      " |      Loads the optimizer state.\n",
      " |      \n",
      " |      Args:\n",
      " |          state_dict (dict): optimizer state. Should be an object returned\n",
      " |              from a call to :meth:`state_dict`.\n",
      " |  \n",
      " |  register_load_state_dict_post_hook(self, hook: Callable[[ForwardRef('Optimizer')], NoneType], prepend: bool = False) -> torch.utils.hooks.RemovableHandle\n",
      " |      Register a load_state_dict post-hook which will be called after\n",
      " |      :meth:`~torch.optim.Optimizer.load_state_dict` is called. It should have the\n",
      " |      following signature::\n",
      " |      \n",
      " |          hook(optimizer) -> None\n",
      " |      \n",
      " |      The ``optimizer`` argument is the optimizer instance being used.\n",
      " |      \n",
      " |      The hook will be called with argument ``self`` after calling\n",
      " |      ``load_state_dict`` on ``self``. The registered hook can be used to\n",
      " |      perform post-processing after ``load_state_dict`` has loaded the\n",
      " |      ``state_dict``.\n",
      " |      \n",
      " |      Args:\n",
      " |          hook (Callable): The user defined hook to be registered.\n",
      " |          prepend (bool): If True, the provided post ``hook`` will be fired before\n",
      " |              all the already registered post-hooks on ``load_state_dict``. Otherwise,\n",
      " |              the provided ``hook`` will be fired after all the already registered\n",
      " |              post-hooks. (default: False)\n",
      " |      \n",
      " |      Returns:\n",
      " |          :class:`torch.utils.hooks.RemoveableHandle`:\n",
      " |              a handle that can be used to remove the added hook by calling\n",
      " |              ``handle.remove()``\n",
      " |  \n",
      " |  register_load_state_dict_pre_hook(self, hook: Callable[[ForwardRef('Optimizer'), Dict[str, Any]], Optional[Dict[str, Any]]], prepend: bool = False) -> torch.utils.hooks.RemovableHandle\n",
      " |      Register a load_state_dict pre-hook which will be called before\n",
      " |      :meth:`~torch.optim.Optimizer.load_state_dict` is called. It should have the\n",
      " |      following signature::\n",
      " |      \n",
      " |          hook(optimizer, state_dict) -> state_dict or None\n",
      " |      \n",
      " |      The ``optimizer`` argument is the optimizer instance being used and the\n",
      " |      ``state_dict`` argument is a shallow copy of the ``state_dict`` the user\n",
      " |      passed in to ``load_state_dict``. The hook may modify the state_dict inplace\n",
      " |      or optionally return a new one. If a state_dict is returned, it will be used\n",
      " |      to be loaded into the optimizer.\n",
      " |      \n",
      " |      The hook will be called with argument ``self`` and ``state_dict`` before\n",
      " |      calling ``load_state_dict`` on ``self``. The registered hook can be used to\n",
      " |      perform pre-processing before the ``load_state_dict`` call is made.\n",
      " |      \n",
      " |      Args:\n",
      " |          hook (Callable): The user defined hook to be registered.\n",
      " |          prepend (bool): If True, the provided pre ``hook`` will be fired before\n",
      " |              all the already registered pre-hooks on ``load_state_dict``. Otherwise,\n",
      " |              the provided ``hook`` will be fired after all the already registered\n",
      " |              pre-hooks. (default: False)\n",
      " |      \n",
      " |      Returns:\n",
      " |          :class:`torch.utils.hooks.RemoveableHandle`:\n",
      " |              a handle that can be used to remove the added hook by calling\n",
      " |              ``handle.remove()``\n",
      " |  \n",
      " |  register_state_dict_post_hook(self, hook: Callable[[ForwardRef('Optimizer'), Dict[str, Any]], Optional[Dict[str, Any]]], prepend: bool = False) -> torch.utils.hooks.RemovableHandle\n",
      " |      Register a state dict post-hook which will be called after\n",
      " |      :meth:`~torch.optim.Optimizer.state_dict` is called. It should have the\n",
      " |      following signature::\n",
      " |      \n",
      " |          hook(optimizer, state_dict) -> state_dict or None\n",
      " |      \n",
      " |      The hook will be called with arguments ``self`` and ``state_dict`` after generating\n",
      " |      a ``state_dict`` on ``self``. The hook may modify the state_dict inplace or optionally\n",
      " |      return a new one. The registered hook can be used to perform post-processing\n",
      " |      on the ``state_dict`` before it is returned.\n",
      " |      \n",
      " |      Args:\n",
      " |          hook (Callable): The user defined hook to be registered.\n",
      " |          prepend (bool): If True, the provided post ``hook`` will be fired before\n",
      " |              all the already registered post-hooks on ``state_dict``. Otherwise,\n",
      " |              the provided ``hook`` will be fired after all the already registered\n",
      " |              post-hooks. (default: False)\n",
      " |      \n",
      " |      Returns:\n",
      " |          :class:`torch.utils.hooks.RemoveableHandle`:\n",
      " |              a handle that can be used to remove the added hook by calling\n",
      " |              ``handle.remove()``\n",
      " |  \n",
      " |  register_state_dict_pre_hook(self, hook: Callable[[ForwardRef('Optimizer')], NoneType], prepend: bool = False) -> torch.utils.hooks.RemovableHandle\n",
      " |      Register a state dict pre-hook which will be called before\n",
      " |      :meth:`~torch.optim.Optimizer.state_dict` is called. It should have the\n",
      " |      following signature::\n",
      " |      \n",
      " |          hook(optimizer) -> None\n",
      " |      \n",
      " |      The ``optimizer`` argument is the optimizer instance being used.\n",
      " |      The hook will be called with argument ``self`` before calling ``state_dict`` on ``self``.\n",
      " |      The registered hook can be used to perform pre-processing before the ``state_dict``\n",
      " |      call is made.\n",
      " |      \n",
      " |      Args:\n",
      " |          hook (Callable): The user defined hook to be registered.\n",
      " |          prepend (bool): If True, the provided pre ``hook`` will be fired before\n",
      " |              all the already registered pre-hooks on ``state_dict``. Otherwise,\n",
      " |              the provided ``hook`` will be fired after all the already registered\n",
      " |              pre-hooks. (default: False)\n",
      " |      \n",
      " |      Returns:\n",
      " |          :class:`torch.utils.hooks.RemoveableHandle`:\n",
      " |              a handle that can be used to remove the added hook by calling\n",
      " |              ``handle.remove()``\n",
      " |  \n",
      " |  register_step_post_hook(self, hook: Callable[[typing_extensions.Self, Tuple[Any, ...], Dict[str, Any]], NoneType]) -> torch.utils.hooks.RemovableHandle\n",
      " |      Register an optimizer step post hook which will be called after optimizer step.\n",
      " |      It should have the following signature::\n",
      " |      \n",
      " |          hook(optimizer, args, kwargs) -> None\n",
      " |      \n",
      " |      The ``optimizer`` argument is the optimizer instance being used.\n",
      " |      \n",
      " |      Args:\n",
      " |          hook (Callable): The user defined hook to be registered.\n",
      " |      \n",
      " |      Returns:\n",
      " |          :class:`torch.utils.hooks.RemovableHandle`:\n",
      " |              a handle that can be used to remove the added hook by calling\n",
      " |              ``handle.remove()``\n",
      " |  \n",
      " |  register_step_pre_hook(self, hook: Callable[[typing_extensions.Self, Tuple[Any, ...], Dict[str, Any]], Optional[Tuple[Tuple[Any, ...], Dict[str, Any]]]]) -> torch.utils.hooks.RemovableHandle\n",
      " |      Register an optimizer step pre hook which will be called before\n",
      " |      optimizer step. It should have the following signature::\n",
      " |      \n",
      " |          hook(optimizer, args, kwargs) -> None or modified args and kwargs\n",
      " |      \n",
      " |      The ``optimizer`` argument is the optimizer instance being used. If\n",
      " |      args and kwargs are modified by the pre-hook, then the transformed\n",
      " |      values are returned as a tuple containing the new_args and new_kwargs.\n",
      " |      \n",
      " |      Args:\n",
      " |          hook (Callable): The user defined hook to be registered.\n",
      " |      \n",
      " |      Returns:\n",
      " |          :class:`torch.utils.hooks.RemovableHandle`:\n",
      " |              a handle that can be used to remove the added hook by calling\n",
      " |              ``handle.remove()``\n",
      " |  \n",
      " |  state_dict(self) -> Dict[str, Any]\n",
      " |      Returns the state of the optimizer as a :class:`dict`.\n",
      " |      \n",
      " |      It contains two entries:\n",
      " |      \n",
      " |      * ``state``: a Dict holding current optimization state. Its content\n",
      " |          differs between optimizer classes, but some common characteristics\n",
      " |          hold. For example, state is saved per parameter, and the parameter\n",
      " |          itself is NOT saved. ``state`` is a Dictionary mapping parameter ids\n",
      " |          to a Dict with state corresponding to each parameter.\n",
      " |      * ``param_groups``: a List containing all parameter groups where each\n",
      " |          parameter group is a Dict. Each parameter group contains metadata\n",
      " |          specific to the optimizer, such as learning rate and weight decay,\n",
      " |          as well as a List of parameter IDs of the parameters in the group.\n",
      " |      \n",
      " |      NOTE: The parameter IDs may look like indices but they are just IDs\n",
      " |      associating state with param_group. When loading from a state_dict,\n",
      " |      the optimizer will zip the param_group ``params`` (int IDs) and the\n",
      " |      optimizer ``param_groups`` (actual ``nn.Parameter`` s) in order to\n",
      " |      match state WITHOUT additional verification.\n",
      " |      \n",
      " |      A returned state dict might look something like:\n",
      " |      \n",
      " |      .. code-block:: text\n",
      " |      \n",
      " |          {\n",
      " |              'state': {\n",
      " |                  0: {'momentum_buffer': tensor(...), ...},\n",
      " |                  1: {'momentum_buffer': tensor(...), ...},\n",
      " |                  2: {'momentum_buffer': tensor(...), ...},\n",
      " |                  3: {'momentum_buffer': tensor(...), ...}\n",
      " |              },\n",
      " |              'param_groups': [\n",
      " |                  {\n",
      " |                      'lr': 0.01,\n",
      " |                      'weight_decay': 0,\n",
      " |                      ...\n",
      " |                      'params': [0]\n",
      " |                  },\n",
      " |                  {\n",
      " |                      'lr': 0.001,\n",
      " |                      'weight_decay': 0.5,\n",
      " |                      ...\n",
      " |                      'params': [1, 2, 3]\n",
      " |                  }\n",
      " |              ]\n",
      " |          }\n",
      " |  \n",
      " |  zero_grad(self, set_to_none: bool = True) -> None\n",
      " |      Resets the gradients of all optimized :class:`torch.Tensor` s.\n",
      " |      \n",
      " |      Args:\n",
      " |          set_to_none (bool): instead of setting to zero, set the grads to None.\n",
      " |              This will in general have lower memory footprint, and can modestly improve performance.\n",
      " |              However, it changes certain behaviors. For example:\n",
      " |              1. When the user tries to access a gradient and perform manual ops on it,\n",
      " |              a None attribute or a Tensor full of 0s will behave differently.\n",
      " |              2. If the user requests ``zero_grad(set_to_none=True)`` followed by a backward pass, ``.grad``\\ s\n",
      " |              are guaranteed to be None for params that did not receive a gradient.\n",
      " |              3. ``torch.optim`` optimizers have a different behavior if the gradient is 0 or None\n",
      " |              (in one case it does the step with a gradient of 0 and in the other it skips\n",
      " |              the step altogether).\n",
      " |  \n",
      " |  ----------------------------------------------------------------------\n",
      " |  Static methods inherited from torch.optim.optimizer.Optimizer:\n",
      " |  \n",
      " |  profile_hook_step(func: Callable[[~_P], ~R]) -> Callable[[~_P], ~R]\n",
      " |  \n",
      " |  ----------------------------------------------------------------------\n",
      " |  Data descriptors inherited from torch.optim.optimizer.Optimizer:\n",
      " |  \n",
      " |  __dict__\n",
      " |      dictionary for instance variables (if defined)\n",
      " |  \n",
      " |  __weakref__\n",
      " |      list of weak references to the object (if defined)\n",
      " |  \n",
      " |  ----------------------------------------------------------------------\n",
      " |  Data and other attributes inherited from torch.optim.optimizer.Optimizer:\n",
      " |  \n",
      " |  OptimizerPostHook = typing.Callable[[typing_extensions.Self, typing......\n",
      " |  \n",
      " |  OptimizerPreHook = typing.Callable[[typing_extensions.Self, typing.......\n",
      " |  \n",
      " |  __annotations__ = {'OptimizerPostHook': typing_extensions.TypeAlias, '...\n",
      "\n"
     ]
    }
   ],
   "source": [
    "help(torch.optim.SGD)"
   ]
  },
  {
   "cell_type": "code",
   "execution_count": 62,
   "metadata": {},
   "outputs": [
    {
     "name": "stdout",
     "output_type": "stream",
     "text": [
      "epoch: 0 loss: 1.8636374388147914e-10\n",
      "epoch: 50 loss: 1.8636374388147914e-10\n",
      "epoch: 100 loss: 1.8636374388147914e-10\n",
      "epoch: 150 loss: 1.8636374388147914e-10\n",
      "epoch: 200 loss: 1.8636374388147914e-10\n",
      "epoch: 250 loss: 1.8636374388147914e-10\n",
      "epoch: 300 loss: 1.8636374388147914e-10\n",
      "epoch: 350 loss: 1.8636374388147914e-10\n",
      "epoch: 400 loss: 1.8636374388147914e-10\n",
      "epoch: 450 loss: 1.8636374388147914e-10\n",
      "epoch: 500 loss: 1.8636374388147914e-10\n",
      "epoch: 550 loss: 1.8636374388147914e-10\n",
      "epoch: 600 loss: 1.8636374388147914e-10\n",
      "epoch: 650 loss: 1.8636374388147914e-10\n",
      "epoch: 700 loss: 1.8636374388147914e-10\n",
      "epoch: 750 loss: 1.8636374388147914e-10\n",
      "epoch: 800 loss: 1.8636374388147914e-10\n",
      "epoch: 850 loss: 1.8636374388147914e-10\n",
      "epoch: 900 loss: 1.8636374388147914e-10\n",
      "epoch: 950 loss: 1.8636374388147914e-10\n"
     ]
    }
   ],
   "source": [
    "for epoch in range(epochs):\n",
    "    # 数据类型转换\n",
    "    inputs = torch.from_numpy(x).to(device)  # 由于x是ndarray数组，需要转换成tensor类型，如果用gpu训练，则会通过to函数把数据传入gpu\n",
    "    labels = torch.from_numpy(y).to(device)\n",
    "\n",
    "    # 训练\n",
    "    optimizer.zero_grad()  # 每次求偏导都会清零，否则会进行叠加\n",
    "    outputs = regression_model(inputs)  # 把输入传入定义的线性回归模型中，进行前向传播，得到预测结果\n",
    "    loss = criterion(outputs, labels)  # 通过均方误差评估预测误差\n",
    "    loss.backward()  # 反向传播\n",
    "    optimizer.step()  # 更新权重参数\n",
    "\n",
    "    # 每50次循环打印一次结果\n",
    "    if epoch % 50 == 0:\n",
    "        print(\"epoch:\", epoch, \"loss:\", loss.item())\n",
    "\n"
   ]
  },
  {
   "cell_type": "code",
   "execution_count": 70,
   "metadata": {},
   "outputs": [
    {
     "data": {
      "text/plain": [
       "array([[ 4.9999743],\n",
       "       [ 6.999978 ],\n",
       "       [ 8.999983 ],\n",
       "       [10.999987 ],\n",
       "       [12.99999  ],\n",
       "       [14.999994 ],\n",
       "       [16.999998 ],\n",
       "       [19.000002 ],\n",
       "       [21.000006 ],\n",
       "       [23.00001  ],\n",
       "       [25.000013 ]], dtype=float32)"
      ]
     },
     "execution_count": 70,
     "metadata": {},
     "output_type": "execute_result"
    }
   ],
   "source": [
    "regression_model(torch.from_numpy(x).to(device).requires_grad_()).data.cpu().numpy() # 通过训练好的模型预测结果"
   ]
  },
  {
   "cell_type": "code",
   "execution_count": 73,
   "metadata": {},
   "outputs": [
    {
     "data": {
      "text/plain": [
       "{'defaults': {'lr': 0.01,\n",
       "  'momentum': 0,\n",
       "  'dampening': 0,\n",
       "  'weight_decay': 0,\n",
       "  'nesterov': False,\n",
       "  'maximize': False,\n",
       "  'foreach': None,\n",
       "  'differentiable': False},\n",
       " '_optimizer_step_pre_hooks': OrderedDict(),\n",
       " '_optimizer_step_post_hooks': OrderedDict(),\n",
       " '_optimizer_state_dict_pre_hooks': OrderedDict(),\n",
       " '_optimizer_state_dict_post_hooks': OrderedDict(),\n",
       " '_optimizer_load_state_dict_pre_hooks': OrderedDict(),\n",
       " '_optimizer_load_state_dict_post_hooks': OrderedDict(),\n",
       " '_zero_grad_profile_name': 'Optimizer.zero_grad#SGD.zero_grad',\n",
       " 'state': defaultdict(dict,\n",
       "             {Parameter containing:\n",
       "              tensor([[2.0000]], device='mps:0', requires_grad=True): {'momentum_buffer': None},\n",
       "              Parameter containing:\n",
       "              tensor([3.0000], device='mps:0', requires_grad=True): {'momentum_buffer': None}}),\n",
       " 'param_groups': [{'params': [Parameter containing:\n",
       "    tensor([[2.0000]], device='mps:0', requires_grad=True),\n",
       "    Parameter containing:\n",
       "    tensor([3.0000], device='mps:0', requires_grad=True)],\n",
       "   'lr': 0.01,\n",
       "   'momentum': 0,\n",
       "   'dampening': 0,\n",
       "   'weight_decay': 0,\n",
       "   'nesterov': False,\n",
       "   'maximize': False,\n",
       "   'foreach': None,\n",
       "   'differentiable': False}],\n",
       " '_warned_capturable_if_run_uncaptured': True}"
      ]
     },
     "execution_count": 73,
     "metadata": {},
     "output_type": "execute_result"
    }
   ],
   "source": [
    "optimizer.__dict__"
   ]
  },
  {
   "cell_type": "code",
   "execution_count": 75,
   "metadata": {},
   "outputs": [],
   "source": [
    "torch.save(regression_model.state_dict(), \"model.pk1\")  # 保存模型\n",
    "result = regression_model.load_state_dict(torch.load(\"model.pk1\"))  # 加载模型"
   ]
  },
  {
   "cell_type": "code",
   "execution_count": 76,
   "metadata": {},
   "outputs": [
    {
     "data": {
      "text/plain": [
       "<All keys matched successfully>"
      ]
     },
     "execution_count": 76,
     "metadata": {},
     "output_type": "execute_result"
    }
   ],
   "source": [
    "result()"
   ]
  },
  {
   "cell_type": "code",
   "execution_count": 77,
   "metadata": {},
   "outputs": [],
   "source": [
    "import torch as t"
   ]
  },
  {
   "cell_type": "code",
   "execution_count": 78,
   "metadata": {},
   "outputs": [
    {
     "data": {
      "text/plain": [
       "tensor([[0., 0., 0.],\n",
       "        [0., 0., 0.]])"
      ]
     },
     "execution_count": 78,
     "metadata": {},
     "output_type": "execute_result"
    }
   ],
   "source": [
    "a = t.Tensor(2, 3)\n",
    "a"
   ]
  },
  {
   "cell_type": "code",
   "execution_count": 79,
   "metadata": {},
   "outputs": [],
   "source": [
    "b = t.tensor([[1, 2, 3], [4, 5, 6]])"
   ]
  },
  {
   "cell_type": "code",
   "execution_count": 88,
   "metadata": {},
   "outputs": [
    {
     "data": {
      "text/plain": [
       "[[1, 2, 3], [4, 5, 6]]"
      ]
     },
     "metadata": {},
     "output_type": "display_data"
    },
    {
     "data": {
      "text/plain": [
       "tensor([[1, 2, 3],\n",
       "        [4, 5, 6]])"
      ]
     },
     "metadata": {},
     "output_type": "display_data"
    }
   ],
   "source": [
    "display(b.tolist(), b)"
   ]
  },
  {
   "cell_type": "code",
   "execution_count": 96,
   "metadata": {},
   "outputs": [
    {
     "data": {
      "text/plain": [
       "tensor([[1, 2, 3],\n",
       "        [4, 5, 6],\n",
       "        [0, 0, 0]])"
      ]
     },
     "execution_count": 96,
     "metadata": {},
     "output_type": "execute_result"
    }
   ],
   "source": [
    "b.resize_([3, 3])"
   ]
  },
  {
   "cell_type": "code",
   "execution_count": 97,
   "metadata": {},
   "outputs": [
    {
     "data": {
      "text/plain": [
       "tensor([[ 0,  1,  2,  3],\n",
       "        [ 4,  5,  6,  7],\n",
       "        [ 8,  9, 10, 11],\n",
       "        [12, 13, 14, 15]])"
      ]
     },
     "execution_count": 97,
     "metadata": {},
     "output_type": "execute_result"
    }
   ],
   "source": [
    "a = t.arange(0, 16).view(4, 4)\n",
    "a"
   ]
  },
  {
   "cell_type": "code",
   "execution_count": 101,
   "metadata": {},
   "outputs": [
    {
     "name": "stdout",
     "output_type": "stream",
     "text": [
      "index: tensor([[0, 1, 2, 3]])\n"
     ]
    },
    {
     "data": {
      "text/plain": [
       "tensor([[ 0,  5, 10, 15]])"
      ]
     },
     "execution_count": 101,
     "metadata": {},
     "output_type": "execute_result"
    }
   ],
   "source": [
    "# 选取对角线的元素\n",
    "index = t.LongTensor([[0, 1, 2, 3]])\n",
    "print(f'index: {index}')\n",
    "a.gather(0, index)  # dim=0"
   ]
  },
  {
   "cell_type": "code",
   "execution_count": 107,
   "metadata": {},
   "outputs": [
    {
     "data": {
      "text/plain": [
       "tensor([[ 0,  1,  2,  3],\n",
       "        [ 4,  5,  6,  7],\n",
       "        [ 8,  9, 10, 11],\n",
       "        [12, 13, 14, 15]], device='mps:0')"
      ]
     },
     "execution_count": 107,
     "metadata": {},
     "output_type": "execute_result"
    }
   ],
   "source": [
    "a.to(device)"
   ]
  },
  {
   "cell_type": "code",
   "execution_count": 109,
   "metadata": {},
   "outputs": [
    {
     "data": {
      "text/plain": [
       "(tensor([3., 3., 3.]), tensor([[3., 3., 3.]]))"
      ]
     },
     "execution_count": 109,
     "metadata": {},
     "output_type": "execute_result"
    }
   ],
   "source": [
    "b = t.ones(3, 3)\n",
    "b.sum(dim=0), b.sum(dim=0, keepdim=True)  # 前者输出形状是(3)，后者输出形状是(1,3)"
   ]
  },
  {
   "cell_type": "code",
   "execution_count": 115,
   "metadata": {},
   "outputs": [
    {
     "data": {
      "text/plain": [
       "tensor([[ 0,  1,  2,  3],\n",
       "        [ 4,  5,  6,  7],\n",
       "        [ 8,  9, 10, 11],\n",
       "        [12, 13, 14, 15]])"
      ]
     },
     "metadata": {},
     "output_type": "display_data"
    },
    {
     "data": {
      "text/plain": [
       "tensor([[ 0,  1,  2,  3],\n",
       "        [ 4,  6,  8, 10],\n",
       "        [12, 15, 18, 21],\n",
       "        [24, 28, 32, 36]])"
      ]
     },
     "metadata": {},
     "output_type": "display_data"
    }
   ],
   "source": [
    "display(a, a.cumsum(dim=0))  # 对第二个维度行的元素按照索引顺序进行累加"
   ]
  },
  {
   "cell_type": "code",
   "execution_count": 116,
   "metadata": {},
   "outputs": [],
   "source": [
    "a = t.ones(3, 2)\n",
    "b = t.ones(2, 3, 1)"
   ]
  },
  {
   "cell_type": "code",
   "execution_count": 121,
   "metadata": {},
   "outputs": [
    {
     "data": {
      "text/plain": [
       "tensor([[[2., 2.],\n",
       "         [2., 2.],\n",
       "         [2., 2.]],\n",
       "\n",
       "        [[2., 2.],\n",
       "         [2., 2.],\n",
       "         [2., 2.]]])"
      ]
     },
     "execution_count": 121,
     "metadata": {},
     "output_type": "execute_result"
    }
   ],
   "source": [
    "a + b"
   ]
  },
  {
   "cell_type": "code",
   "execution_count": 129,
   "metadata": {},
   "outputs": [
    {
     "name": "stdout",
     "output_type": "stream",
     "text": [
      "CPU times: user 91.6 ms, sys: 1.07 ms, total: 92.7 ms\n",
      "Wall time: 91.9 ms\n"
     ]
    }
   ],
   "source": [
    "%%time\n",
    "ans = 0\n",
    "for i in range(1000000):\n",
    "    ans += i;"
   ]
  },
  {
   "cell_type": "code",
   "execution_count": 134,
   "metadata": {},
   "outputs": [],
   "source": [
    "if t.backends.mps.is_available:\n",
    "    a = t.zeros(1)\n",
    "    t.save(a, \"a.pkl\")"
   ]
  },
  {
   "cell_type": "code",
   "execution_count": 135,
   "metadata": {},
   "outputs": [],
   "source": [
    "# 加载为b，存储于gpu1上（因为保存时tensor就在gpu1上）\n",
    "b = t.load('a.pkl')\n",
    "# 加载为c，存储于cpu\n",
    "c = t.load('a.pkl', map_location=lambda storage, loc: storage)\n",
    "# 加载为d，存储于gpu0上\n",
    "d = t.load('a.pkl', map_location={'cuda:1': 'cuda:0'})"
   ]
  },
  {
   "cell_type": "code",
   "execution_count": 144,
   "metadata": {},
   "outputs": [
    {
     "data": {
      "text/plain": [
       "torch.Tensor"
      ]
     },
     "execution_count": 144,
     "metadata": {},
     "output_type": "execute_result"
    }
   ],
   "source": [
    "type(d)"
   ]
  },
  {
   "cell_type": "code",
   "execution_count": 145,
   "metadata": {},
   "outputs": [],
   "source": [
    "import torch as t\n",
    "from torch.autograd import Variable as V"
   ]
  },
  {
   "cell_type": "code",
   "execution_count": 174,
   "metadata": {},
   "outputs": [
    {
     "data": {
      "text/plain": [
       "tensor([[1., 1., 1., 1.],\n",
       "        [1., 1., 1., 1.],\n",
       "        [1., 1., 1., 1.]], requires_grad=True)"
      ]
     },
     "execution_count": 174,
     "metadata": {},
     "output_type": "execute_result"
    }
   ],
   "source": [
    "a = V(t.ones(3, 4), requires_grad=True)\n",
    "a"
   ]
  },
  {
   "cell_type": "code",
   "execution_count": 175,
   "metadata": {},
   "outputs": [
    {
     "data": {
      "text/plain": [
       "tensor([[0., 0., 0., 0.],\n",
       "        [0., 0., 0., 0.],\n",
       "        [0., 0., 0., 0.]])"
      ]
     },
     "execution_count": 175,
     "metadata": {},
     "output_type": "execute_result"
    }
   ],
   "source": [
    "b = V(t.zeros(3, 4))\n",
    "b"
   ]
  },
  {
   "cell_type": "code",
   "execution_count": 176,
   "metadata": {},
   "outputs": [],
   "source": [
    "c = a+b"
   ]
  },
  {
   "cell_type": "code",
   "execution_count": 177,
   "metadata": {},
   "outputs": [
    {
     "data": {
      "text/plain": [
       "tensor([[1., 1., 1., 1.],\n",
       "        [1., 1., 1., 1.],\n",
       "        [1., 1., 1., 1.]], grad_fn=<AddBackward0>)"
      ]
     },
     "execution_count": 177,
     "metadata": {},
     "output_type": "execute_result"
    }
   ],
   "source": [
    "# c = a.add(b)  # variable 函数的使用和 tensor 一致，等同于 c=a+b\n",
    "c"
   ]
  },
  {
   "cell_type": "code",
   "execution_count": 178,
   "metadata": {},
   "outputs": [
    {
     "data": {
      "text/plain": [
       "(True, False, True)"
      ]
     },
     "execution_count": 178,
     "metadata": {},
     "output_type": "execute_result"
    }
   ],
   "source": [
    "# 注：虽然没有指定 c 需要求导，但 c 依赖于 a，由于 a 需要求导，因此 c 的 requeires_grad 默认设置为 True\n",
    "a.requires_grad, b.requires_grad, c.requires_grad"
   ]
  },
  {
   "cell_type": "code",
   "execution_count": 179,
   "metadata": {},
   "outputs": [],
   "source": [
    "# 注：`c.data.sum()`是在去 data 后变为 tensor，从 tensor 计算sum；`c.sum()`计算后仍然是 variable\n",
    "d = c.sum()\n",
    "d.backward()  # 反向传播"
   ]
  },
  {
   "cell_type": "code",
   "execution_count": 180,
   "metadata": {},
   "outputs": [
    {
     "name": "stderr",
     "output_type": "stream",
     "text": [
      "/var/folders/ll/g9yk3qbd3qnc06sfwm1s4t840000gn/T/ipykernel_81428/712901659.py:1: UserWarning: The .grad attribute of a Tensor that is not a leaf Tensor is being accessed. Its .grad attribute won't be populated during autograd.backward(). If you indeed want the .grad field to be populated for a non-leaf Tensor, use .retain_grad() on the non-leaf Tensor. If you access the non-leaf Tensor by mistake, make sure you access the leaf Tensor instead. See github.com/pytorch/pytorch/pull/30531 for more informations. (Triggered internally at /Users/runner/work/pytorch/pytorch/pytorch/build/aten/src/ATen/core/TensorBody.h:494.)\n",
      "  display(a.grad, c.grad, d.grad)\n"
     ]
    },
    {
     "data": {
      "text/plain": [
       "tensor([[1., 1., 1., 1.],\n",
       "        [1., 1., 1., 1.],\n",
       "        [1., 1., 1., 1.]])"
      ]
     },
     "metadata": {},
     "output_type": "display_data"
    },
    {
     "data": {
      "text/plain": [
       "None"
      ]
     },
     "metadata": {},
     "output_type": "display_data"
    },
    {
     "data": {
      "text/plain": [
       "None"
      ]
     },
     "metadata": {},
     "output_type": "display_data"
    }
   ],
   "source": [
    "display(a.grad, c.grad, d.grad)"
   ]
  },
  {
   "cell_type": "code",
   "execution_count": 181,
   "metadata": {},
   "outputs": [
    {
     "data": {
      "text/plain": [
       "tensor([[1.0483e+01, 4.8500e-05, 2.2099e-01, 1.2519e-01],\n",
       "        [6.3724e-03, 9.8387e-05, 1.0509e-01, 5.3930e+00],\n",
       "        [5.4316e+00, 1.8271e-01, 2.6152e+00, 4.5434e-01]],\n",
       "       grad_fn=<MulBackward0>)"
      ]
     },
     "execution_count": 181,
     "metadata": {},
     "output_type": "execute_result"
    }
   ],
   "source": [
    "def f(x):\n",
    "    \"\"\"计算 y\"\"\"\n",
    "    y = x**2 * t.exp(x)\n",
    "    return y\n",
    "\n",
    "\n",
    "def grad_f(x):\n",
    "    \"\"\"手动对函数求导\"\"\"\n",
    "    dx = 2 * x * t.exp(x) + x**2 * t.exp(x)\n",
    "    return dx\n",
    "\n",
    "\n",
    "x = V(t.randn(3, 4), requires_grad=True)\n",
    "y = f(x)\n",
    "y"
   ]
  },
  {
   "cell_type": "code",
   "execution_count": 182,
   "metadata": {},
   "outputs": [
    {
     "data": {
      "text/plain": [
       "tensor([[ 2.4306e+01,  1.4025e-02, -4.5801e-01, -4.4238e-01],\n",
       "        [ 1.7228e-01,  2.0035e-02, -4.2708e-01,  1.4052e+01],\n",
       "        [ 1.4133e+01, -4.6090e-01,  7.9137e+00, -2.5815e-01]])"
      ]
     },
     "execution_count": 182,
     "metadata": {},
     "output_type": "execute_result"
    }
   ],
   "source": [
    "y_grad_variables = t.ones(\n",
    "    y.size())  # 由于dz/dy=1，并且grad_variables 形状需要与 y 一致，详解看下面的 3.4 小节\n",
    "y.backward(y_grad_variables)\n",
    "x.grad"
   ]
  },
  {
   "cell_type": "code",
   "execution_count": 183,
   "metadata": {},
   "outputs": [
    {
     "data": {
      "text/plain": [
       "tensor([[ 2.4306e+01,  1.4025e-02, -4.5801e-01, -4.4238e-01],\n",
       "        [ 1.7228e-01,  2.0035e-02, -4.2708e-01,  1.4052e+01],\n",
       "        [ 1.4133e+01, -4.6090e-01,  7.9137e+00, -2.5815e-01]],\n",
       "       grad_fn=<AddBackward0>)"
      ]
     },
     "execution_count": 183,
     "metadata": {},
     "output_type": "execute_result"
    }
   ],
   "source": [
    "grad_f(x)  # autograd 计算的结果和利用公式计算的结果一致"
   ]
  },
  {
   "cell_type": "code",
   "execution_count": 184,
   "metadata": {},
   "outputs": [],
   "source": [
    "x = V(t.ones(1))\n",
    "b = V(t.rand(1), requires_grad=True)\n",
    "w = V(t.rand(1), requires_grad=True)\n",
    "y = w * x  # 等价于 y=w.mul(x)\n",
    "z = y + b  # 等价于 z=y.add(b)"
   ]
  },
  {
   "cell_type": "code",
   "execution_count": 185,
   "metadata": {},
   "outputs": [
    {
     "data": {
      "text/plain": [
       "(False, True, True, True, True)"
      ]
     },
     "execution_count": 185,
     "metadata": {},
     "output_type": "execute_result"
    }
   ],
   "source": [
    "# 由于 y 依赖于求导的 w，故而即使 y 没有指定requires_grad=True，也为 True；z 同理\n",
    "x.requires_grad, b.requires_grad, w.requires_grad, y.requires_grad, z.requires_grad"
   ]
  },
  {
   "cell_type": "code",
   "execution_count": 186,
   "metadata": {},
   "outputs": [
    {
     "data": {
      "text/plain": [
       "(True, True, True, False, False)"
      ]
     },
     "execution_count": 186,
     "metadata": {},
     "output_type": "execute_result"
    }
   ],
   "source": [
    "x.is_leaf, b.is_leaf, w.is_leaf, y.is_leaf, z.is_leaf"
   ]
  },
  {
   "cell_type": "code",
   "execution_count": 196,
   "metadata": {},
   "outputs": [
    {
     "data": {
      "text/plain": [
       "<AddBackward0 at 0x7f7dab3aa1f0>"
      ]
     },
     "execution_count": 196,
     "metadata": {},
     "output_type": "execute_result"
    }
   ],
   "source": [
    "z.grad_fn"
   ]
  },
  {
   "cell_type": "code",
   "execution_count": 195,
   "metadata": {},
   "outputs": [
    {
     "data": {
      "text/plain": [
       "None"
      ]
     },
     "metadata": {},
     "output_type": "display_data"
    },
    {
     "data": {
      "text/plain": [
       "None"
      ]
     },
     "metadata": {},
     "output_type": "display_data"
    },
    {
     "data": {
      "text/plain": [
       "None"
      ]
     },
     "metadata": {},
     "output_type": "display_data"
    },
    {
     "data": {
      "text/plain": [
       "<MulBackward0 at 0x7f7dab3cad30>"
      ]
     },
     "metadata": {},
     "output_type": "display_data"
    },
    {
     "data": {
      "text/plain": [
       "<AddBackward0 at 0x7f7dab3aa1f0>"
      ]
     },
     "metadata": {},
     "output_type": "display_data"
    }
   ],
   "source": [
    "# grad_fn 可以查看这个 variable 的反向传播函数\n",
    "# 由于 z 是 add 函数的输出，所以它的反向传播函数是 AddBackward\n",
    "display(x.grad_fn, b.grad_fn ,w.grad_fn, y.grad_fn, z.grad_fn)"
   ]
  },
  {
   "cell_type": "code",
   "execution_count": 193,
   "metadata": {},
   "outputs": [
    {
     "data": {
      "text/plain": [
       "((<MulBackward0 at 0x7f7dab3cad30>, 0),\n",
       " (<AccumulateGrad at 0x7f7dab3ca160>, 0))"
      ]
     },
     "execution_count": 193,
     "metadata": {},
     "output_type": "execute_result"
    }
   ],
   "source": [
    "# next_functions 保存 grad_fn 的输入，grad_fn 是一个元组\n",
    "# 第一个是 y，它是乘法的输出，所以对应的反向传播函数 y.grad_fn 是 MulBackward\n",
    "# 第二个是 b，它是叶子节点，由用户创建，grad_fn 为 None，但是有 z.grad_fn.next_functions\n",
    "z.grad_fn.next_functions"
   ]
  },
  {
   "cell_type": "code",
   "execution_count": 197,
   "metadata": {},
   "outputs": [
    {
     "data": {
      "image/png": "[encoded data removed]",
      "text/plain": [
       "<Figure size 640x480 with 1 Axes>"
      ]
     },
     "metadata": {},
     "output_type": "display_data"
    }
   ],
   "source": [
    "import torch as t\n",
    "from torch.autograd import Variable as V\n",
    "# 不是 jupyter 运行请注释掉下面一行，为了 jupyter 显示图片\n",
    "%matplotlib inline\n",
    "from matplotlib import pyplot as plt\n",
    "from IPython import display\n",
    "\n",
    "t.manual_seed(1000)  # 随机数种子\n",
    "\n",
    "\n",
    "def get_fake_data(batch_size=8):\n",
    "    \"\"\"产生随机数据：y = x * 2 + 3，同时加上了一些噪声\"\"\"\n",
    "    x = t.rand(batch_size, 1) * 20\n",
    "    y = x * 2 + (1 + t.randn(batch_size, 1)) * 3  # 噪声为 |3-((1 + t.randn(batch_size, 1)) * 3)|\n",
    "\n",
    "    return x, y\n",
    "\n",
    "\n",
    "# 查看 x，y 的分布情况\n",
    "x, y = get_fake_data()\n",
    "plt.scatter(x.squeeze().numpy(), y.squeeze().numpy())\n",
    "plt.show()"
   ]
  },
  {
   "cell_type": "code",
   "execution_count": 198,
   "metadata": {},
   "outputs": [
    {
     "data": {
      "image/png": "[encoded data removed]",
      "text/plain": [
       "<Figure size 640x480 with 1 Axes>"
      ]
     },
     "metadata": {},
     "output_type": "display_data"
    }
   ],
   "source": [
    "# 随机初始化参数\n",
    "w = V(t.rand(1, 1), requires_grad=True)\n",
    "b = V(t.zeros(1, 1), requires_grad=True)\n",
    "\n",
    "lr = 0.001  # 学习率\n",
    "\n",
    "for i in range(8000):\n",
    "    x, y = get_fake_data()\n",
    "    x, y = V(x), V(y)\n",
    "\n",
    "    # forwad：计算 loss\n",
    "    y_pred = x.mm(w) + b.expand_as(y)\n",
    "    loss = 0.5 * (y_pred - y)**2\n",
    "    loss = loss.sum()\n",
    "\n",
    "    # backward：自动计算梯度\n",
    "    loss.backward()\n",
    "\n",
    "    # 更新参数\n",
    "    w.data.sub_(lr * w.grad.data)\n",
    "    b.data.sub_(lr * b.grad.data)\n",
    "\n",
    "    # 梯度清零，不清零则会进行叠加，影响下一次梯度计算\n",
    "    w.grad.data.zero_()\n",
    "    b.grad.data.zero_()\n",
    "\n",
    "    if i % 1000 == 0:\n",
    "        # 画图\n",
    "        display.clear_output(wait=True)\n",
    "        x = t.arange(0, 20, dtype=t.float).view(-1, 1)\n",
    "        y = x.mm(w.data) + b.data.expand_as(x)\n",
    "        plt.plot(x.numpy(), y.numpy(), color='red')  # 预测效果\n",
    "\n",
    "        x2, y2 = get_fake_data(batch_size=20)\n",
    "        plt.scatter(x2.numpy(), y2.numpy(), color='blue')  # 真实数据\n",
    "\n",
    "        plt.xlim(0, 20)\n",
    "        plt.ylim(0, 41)\n",
    "        plt.show()\n",
    "        plt.pause(0.5)\n",
    "        break  # 注销这一行，可以看到动态效果"
   ]
  },
  {
   "cell_type": "code",
   "execution_count": 202,
   "metadata": {},
   "outputs": [
    {
     "data": {
      "text/plain": [
       "['T_destination',\n",
       " '__annotations__',\n",
       " '__call__',\n",
       " '__class__',\n",
       " '__delattr__',\n",
       " '__dict__',\n",
       " '__dir__',\n",
       " '__doc__',\n",
       " '__eq__',\n",
       " '__format__',\n",
       " '__ge__',\n",
       " '__getattr__',\n",
       " '__getattribute__',\n",
       " '__getstate__',\n",
       " '__gt__',\n",
       " '__hash__',\n",
       " '__init__',\n",
       " '__init_subclass__',\n",
       " '__le__',\n",
       " '__lt__',\n",
       " '__module__',\n",
       " '__ne__',\n",
       " '__new__',\n",
       " '__reduce__',\n",
       " '__reduce_ex__',\n",
       " '__repr__',\n",
       " '__setattr__',\n",
       " '__setstate__',\n",
       " '__sizeof__',\n",
       " '__str__',\n",
       " '__subclasshook__',\n",
       " '__weakref__',\n",
       " '_apply',\n",
       " '_call_impl',\n",
       " '_compiled_call_impl',\n",
       " '_get_backward_hooks',\n",
       " '_get_backward_pre_hooks',\n",
       " '_get_name',\n",
       " '_load_from_state_dict',\n",
       " '_maybe_warn_non_full_backward_hook',\n",
       " '_named_members',\n",
       " '_register_load_state_dict_pre_hook',\n",
       " '_register_state_dict_hook',\n",
       " '_replicate_for_data_parallel',\n",
       " '_save_to_state_dict',\n",
       " '_slow_forward',\n",
       " '_version',\n",
       " '_wrapped_call_impl',\n",
       " 'add_module',\n",
       " 'apply',\n",
       " 'bfloat16',\n",
       " 'buffers',\n",
       " 'call_super_init',\n",
       " 'children',\n",
       " 'compile',\n",
       " 'cpu',\n",
       " 'cuda',\n",
       " 'double',\n",
       " 'dump_patches',\n",
       " 'eval',\n",
       " 'extra_repr',\n",
       " 'float',\n",
       " 'forward',\n",
       " 'get_buffer',\n",
       " 'get_extra_state',\n",
       " 'get_parameter',\n",
       " 'get_submodule',\n",
       " 'half',\n",
       " 'ipu',\n",
       " 'load_state_dict',\n",
       " 'modules',\n",
       " 'named_buffers',\n",
       " 'named_children',\n",
       " 'named_modules',\n",
       " 'named_parameters',\n",
       " 'parameters',\n",
       " 'register_backward_hook',\n",
       " 'register_buffer',\n",
       " 'register_forward_hook',\n",
       " 'register_forward_pre_hook',\n",
       " 'register_full_backward_hook',\n",
       " 'register_full_backward_pre_hook',\n",
       " 'register_load_state_dict_post_hook',\n",
       " 'register_module',\n",
       " 'register_parameter',\n",
       " 'register_state_dict_pre_hook',\n",
       " 'requires_grad_',\n",
       " 'set_extra_state',\n",
       " 'share_memory',\n",
       " 'state_dict',\n",
       " 'to',\n",
       " 'to_empty',\n",
       " 'train',\n",
       " 'type',\n",
       " 'xpu',\n",
       " 'zero_grad']"
      ]
     },
     "execution_count": 202,
     "metadata": {},
     "output_type": "execute_result"
    }
   ],
   "source": [
    "dir(torch.nn.Module)"
   ]
  },
  {
   "cell_type": "code",
   "execution_count": null,
   "metadata": {},
   "outputs": [],
   "source": []
  }
 ],
 "metadata": {
  "kernelspec": {
   "display_name": "venv",
   "language": "python",
   "name": "python3"
  },
  "language_info": {
   "codemirror_mode": {
    "name": "ipython",
    "version": 3
   },
   "file_extension": ".py",
   "mimetype": "text/x-python",
   "name": "python",
   "nbconvert_exporter": "python",
   "pygments_lexer": "ipython3",
   "version": "3.9.2"
  }
 },
 "nbformat": 4,
 "nbformat_minor": 2
}
